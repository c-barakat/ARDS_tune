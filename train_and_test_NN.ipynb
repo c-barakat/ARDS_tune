{
 "cells": [
  {
   "cell_type": "code",
   "execution_count": 3,
   "id": "authorized-heavy",
   "metadata": {},
   "outputs": [],
   "source": [
    "import glob\n",
    "import os\n",
    "\n",
    "import matplotlib.pyplot as plt\n",
    "import numpy as np\n",
    "import pandas as pd\n",
    "from sklearn.model_selection import train_test_split\n",
    "from sklearn.preprocessing import QuantileTransformer\n",
    "\n",
    "from tensorflow.keras import Input, layers, models\n",
    "from tensorflow.keras.optimizers import Adam\n",
    "# from tensorflow.keras.metrics import mean_absolute_error, mean_squared_error\n",
    "import tensorflow as tf"
   ]
  },
  {
   "cell_type": "code",
   "execution_count": 4,
   "id": "executed-yesterday",
   "metadata": {},
   "outputs": [],
   "source": [
    "patient_data = pd.DataFrame()"
   ]
  },
  {
   "cell_type": "code",
   "execution_count": 5,
   "id": "racial-accounting",
   "metadata": {},
   "outputs": [],
   "source": [
    "current_dir = os.getcwd()"
   ]
  },
  {
   "cell_type": "code",
   "execution_count": null,
   "id": "desperate-tourism",
   "metadata": {},
   "outputs": [],
   "source": [
    "# Load data\n",
    "for file in glob.glob(os.path.join(current_dir, \"*.csv\")):\n",
    "    patient_data = patient_data.append(pd.read_csv(file), ignore_index=True)"
   ]
  },
  {
   "cell_type": "code",
   "execution_count": null,
   "id": "stylish-cricket",
   "metadata": {},
   "outputs": [],
   "source": [
    "patient_data[patient_data.duplicated()]"
   ]
  },
  {
   "cell_type": "code",
   "execution_count": null,
   "id": "cardiac-kuwait",
   "metadata": {},
   "outputs": [],
   "source": [
    "patient_data.shape"
   ]
  },
  {
   "cell_type": "code",
   "execution_count": null,
   "id": "controlled-administrator",
   "metadata": {},
   "outputs": [],
   "source": [
    "data_filename = os.path.join(current_dir, \"patient_data.csv\")\n",
    "patient_data.to_csv(data_filename, index=False)"
   ]
  },
  {
   "cell_type": "code",
   "execution_count": null,
   "id": "dependent-failure",
   "metadata": {},
   "outputs": [],
   "source": [
    "os.system(f\"chmod 774 {data_filename}\")\n",
    "os.system(\"rm dp-cn*\")"
   ]
  },
  {
   "cell_type": "code",
   "execution_count": 6,
   "id": "atomic-garden",
   "metadata": {},
   "outputs": [],
   "source": [
    "patient_data = pd.read_csv(\"patient_data.csv\")"
   ]
  },
  {
   "cell_type": "code",
   "execution_count": 7,
   "id": "operational-supervision",
   "metadata": {},
   "outputs": [],
   "source": [
    "# PAY ATTENTION TO THIS!!!!\n",
    "patient_data.PaO2 = patient_data.PaO2 * 7.50062\n",
    "patient_data.PaCO2 = patient_data.PaCO2 * 7.50062"
   ]
  },
  {
   "cell_type": "code",
   "execution_count": 8,
   "id": "fantastic-error",
   "metadata": {},
   "outputs": [],
   "source": [
    "# Standardise the Features\n",
    "# scaler = MinMaxScaler(feature_range=(0, 1)) ## NOPE: not for normal dist.\n",
    "# scaler = Normalizer() ## NOPE\n",
    "# scaler = StandardScaler()\n",
    "scaler = QuantileTransformer(n_quantiles=10000, output_distribution=\"normal\")\n",
    "\n",
    "patient_data_norm = pd.DataFrame(\n",
    "    scaler.fit_transform(patient_data), columns=patient_data.columns\n",
    ")"
   ]
  },
  {
   "cell_type": "code",
   "execution_count": 9,
   "id": "spiritual-replica",
   "metadata": {},
   "outputs": [],
   "source": [
    "# reduced_scaler = StandardScaler()\n",
    "reduced_scaler = QuantileTransformer(n_quantiles=10000, output_distribution=\"normal\")"
   ]
  },
  {
   "cell_type": "code",
   "execution_count": 10,
   "id": "included-fluid",
   "metadata": {},
   "outputs": [],
   "source": [
    "# # For StandardScaler inheritance\n",
    "# reduced_scaler.scale_ = scaler.scale_[-4:]\n",
    "# reduced_scaler.mean_ = scaler.mean_[-4:]\n",
    "# reduced_scaler.var_ = scaler.var_[-4:]\n",
    "# reduced_scaler.n_features_in_ = 4\n",
    "# reduced_scaler.n_samples_seen_ = patient_data.shape[0]\n",
    "\n",
    "# # For QuantileTransformer inheritance\n",
    "reduced_scaler.fit(patient_data[[\"PaO2\", \"PaCO2\", \"HCO3\", \"pH\"]])\n",
    "reduced_scaler.quantiles_ = scaler.quantiles_[:, -4:]"
   ]
  },
  {
   "cell_type": "code",
   "execution_count": 11,
   "id": "defined-xerox",
   "metadata": {},
   "outputs": [],
   "source": [
    "# Split data into train and test sets\n",
    "train_data, test_data = train_test_split(\n",
    "    patient_data_norm,\n",
    "    test_size=0.1,\n",
    "    shuffle=True,\n",
    ")"
   ]
  },
  {
   "cell_type": "code",
   "execution_count": 12,
   "id": "angry-subject",
   "metadata": {},
   "outputs": [],
   "source": [
    "# Create validation set\n",
    "train_data, val_data = train_test_split(\n",
    "    train_data,\n",
    "    test_size=test_data.shape[0],\n",
    "    shuffle=True,\n",
    ")"
   ]
  },
  {
   "cell_type": "code",
   "execution_count": 13,
   "id": "approximate-algebra",
   "metadata": {},
   "outputs": [],
   "source": [
    "# Split all datasets into input and expected outputs\n",
    "x_train, y_train = train_data.iloc[:, :-4].values, train_data.iloc[:, -4:].values\n",
    "x_test, y_test = test_data.iloc[:, :-4].values, test_data.iloc[:, -4:].values\n",
    "x_val, y_val = val_data.iloc[:, :-4].values, val_data.iloc[:, -4:].values"
   ]
  },
  {
   "cell_type": "markdown",
   "id": "major-split",
   "metadata": {},
   "source": [
    "## Initialise Multi-Layer Perceptron (Functional API)"
   ]
  },
  {
   "cell_type": "code",
   "execution_count": 38,
   "id": "minimal-telling",
   "metadata": {},
   "outputs": [],
   "source": [
    "inputs = Input(shape=(x_train.shape[1],), name=\"Input_Layer\")\n",
    "\n",
    "layer = layers.Dense(32, activation=\"relu\", name=\"Dense_Layer_1\")(inputs)\n",
    "layer = layers.Dropout(0.5, name=\"Dropout_Layer\")(layer)\n",
    "layer = layers.Dense(\n",
    "    64,\n",
    "    activation=\"relu\",\n",
    "    kernel_initializer=\"glorot_uniform\",\n",
    "    kernel_regularizer=\"l2\",\n",
    "    name=\"Dense_Layer_2\",\n",
    ")(layer)\n",
    "layer = layers.Dropout(0.5, name=\"Dropout_Layer2\")(layer)\n",
    "layer = layers.Dense(\n",
    "    64,\n",
    "    activation=\"relu\",\n",
    "    kernel_initializer=\"glorot_uniform\",\n",
    "    kernel_regularizer=\"l2\",\n",
    "    name=\"Dense_Layer_3\",\n",
    ")(layer)\n",
    "layer = layers.Dropout(0.5, name=\"Dropout_Layer3\")(layer)\n",
    "layer = layers.Dense(\n",
    "    64,\n",
    "    activation=\"relu\",\n",
    "    kernel_initializer=\"glorot_uniform\",\n",
    "    kernel_regularizer=\"l2\",\n",
    "    name=\"Dense_Layer_4\",\n",
    ")(layer)\n",
    "\n",
    "outputs = layers.Dense(4, name=\"Output_Layer\")(layer)"
   ]
  },
  {
   "cell_type": "code",
   "execution_count": 39,
   "id": "cathedral-austria",
   "metadata": {},
   "outputs": [],
   "source": [
    "MLP_model = models.Model(inputs=inputs, outputs=outputs, name=\"MLP\")"
   ]
  },
  {
   "cell_type": "code",
   "execution_count": 40,
   "id": "northern-habitat",
   "metadata": {},
   "outputs": [],
   "source": [
    "MLP_model.compile(\n",
    "    loss=\"mae\", optimizer=Adam(learning_rate=1e-5), metrics=[\"mse\", \"mae\"]\n",
    ")"
   ]
  },
  {
   "cell_type": "code",
   "execution_count": 41,
   "id": "joint-checkout",
   "metadata": {},
   "outputs": [
    {
     "name": "stdout",
     "output_type": "stream",
     "text": [
      "Model: \"MLP\"\n",
      "_________________________________________________________________\n",
      "Layer (type)                 Output Shape              Param #   \n",
      "=================================================================\n",
      "Input_Layer (InputLayer)     [(None, 19)]              0         \n",
      "_________________________________________________________________\n",
      "Dense_Layer_1 (Dense)        (None, 32)                640       \n",
      "_________________________________________________________________\n",
      "Dropout_Layer (Dropout)      (None, 32)                0         \n",
      "_________________________________________________________________\n",
      "Dense_Layer_2 (Dense)        (None, 64)                2112      \n",
      "_________________________________________________________________\n",
      "Dropout_Layer2 (Dropout)     (None, 64)                0         \n",
      "_________________________________________________________________\n",
      "Dense_Layer_3 (Dense)        (None, 64)                4160      \n",
      "_________________________________________________________________\n",
      "Dropout_Layer3 (Dropout)     (None, 64)                0         \n",
      "_________________________________________________________________\n",
      "Dense_Layer_4 (Dense)        (None, 64)                4160      \n",
      "_________________________________________________________________\n",
      "Output_Layer (Dense)         (None, 4)                 260       \n",
      "=================================================================\n",
      "Total params: 11,332\n",
      "Trainable params: 11,332\n",
      "Non-trainable params: 0\n",
      "_________________________________________________________________\n"
     ]
    }
   ],
   "source": [
    "MLP_model.summary()"
   ]
  },
  {
   "cell_type": "code",
   "execution_count": 42,
   "id": "adverse-terry",
   "metadata": {},
   "outputs": [
    {
     "name": "stdout",
     "output_type": "stream",
     "text": [
      "Epoch 1/50\n",
      "6250/6250 [==============================] - 11s 2ms/step - loss: 2.3389 - mse: 1.1673 - mae: 0.8561 - val_loss: 1.6289 - val_mse: 0.8605 - val_mae: 0.7327\n",
      "Epoch 2/50\n",
      "6250/6250 [==============================] - 10s 2ms/step - loss: 1.4891 - mse: 0.8764 - mae: 0.7364 - val_loss: 0.9712 - val_mse: 0.5386 - val_mae: 0.5539\n",
      "Epoch 3/50\n",
      "6250/6250 [==============================] - 10s 2ms/step - loss: 0.9859 - mse: 0.6860 - mae: 0.6382 - val_loss: 0.6759 - val_mse: 0.4288 - val_mae: 0.4833\n",
      "Epoch 4/50\n",
      "6250/6250 [==============================] - 10s 2ms/step - loss: 0.7410 - mse: 0.5737 - mae: 0.5770 - val_loss: 0.5509 - val_mse: 0.3751 - val_mae: 0.4480\n",
      "Epoch 5/50\n",
      "6250/6250 [==============================] - 10s 2ms/step - loss: 0.6239 - mse: 0.4971 - mae: 0.5325 - val_loss: 0.4935 - val_mse: 0.3458 - val_mae: 0.4287\n",
      "Epoch 6/50\n",
      "6250/6250 [==============================] - 10s 2ms/step - loss: 0.5620 - mse: 0.4475 - mae: 0.5029 - val_loss: 0.4615 - val_mse: 0.3272 - val_mae: 0.4161\n",
      "Epoch 7/50\n",
      "6250/6250 [==============================] - 10s 2ms/step - loss: 0.5246 - mse: 0.4152 - mae: 0.4822 - val_loss: 0.4419 - val_mse: 0.3127 - val_mae: 0.4069\n",
      "Epoch 8/50\n",
      "6250/6250 [==============================] - 10s 2ms/step - loss: 0.5005 - mse: 0.3920 - mae: 0.4672 - val_loss: 0.4301 - val_mse: 0.3041 - val_mae: 0.4010\n",
      "Epoch 9/50\n",
      "6250/6250 [==============================] - 10s 2ms/step - loss: 0.4845 - mse: 0.3753 - mae: 0.4563 - val_loss: 0.4210 - val_mse: 0.2956 - val_mae: 0.3953\n",
      "Epoch 10/50\n",
      "6250/6250 [==============================] - 10s 2ms/step - loss: 0.4726 - mse: 0.3627 - mae: 0.4475 - val_loss: 0.4147 - val_mse: 0.2908 - val_mae: 0.3912\n",
      "Epoch 11/50\n",
      "6250/6250 [==============================] - 10s 2ms/step - loss: 0.4635 - mse: 0.3523 - mae: 0.4403 - val_loss: 0.4099 - val_mse: 0.2851 - val_mae: 0.3875\n",
      "Epoch 12/50\n",
      "6250/6250 [==============================] - 10s 2ms/step - loss: 0.4564 - mse: 0.3439 - mae: 0.4342 - val_loss: 0.4062 - val_mse: 0.2819 - val_mae: 0.3846\n",
      "Epoch 13/50\n",
      "6250/6250 [==============================] - 10s 2ms/step - loss: 0.4504 - mse: 0.3372 - mae: 0.4290 - val_loss: 0.4028 - val_mse: 0.2783 - val_mae: 0.3818\n",
      "Epoch 14/50\n",
      "6250/6250 [==============================] - 10s 2ms/step - loss: 0.4460 - mse: 0.3318 - mae: 0.4251 - val_loss: 0.4001 - val_mse: 0.2753 - val_mae: 0.3794\n",
      "Epoch 15/50\n",
      "6250/6250 [==============================] - 10s 2ms/step - loss: 0.4422 - mse: 0.3273 - mae: 0.4216 - val_loss: 0.3985 - val_mse: 0.2736 - val_mae: 0.3780\n",
      "Epoch 16/50\n",
      "6250/6250 [==============================] - 10s 2ms/step - loss: 0.4385 - mse: 0.3225 - mae: 0.4180 - val_loss: 0.3971 - val_mse: 0.2725 - val_mae: 0.3768\n",
      "Epoch 17/50\n",
      "6250/6250 [==============================] - 10s 2ms/step - loss: 0.4358 - mse: 0.3201 - mae: 0.4155 - val_loss: 0.3959 - val_mse: 0.2713 - val_mae: 0.3756\n",
      "Epoch 18/50\n",
      "6250/6250 [==============================] - 10s 2ms/step - loss: 0.4335 - mse: 0.3170 - mae: 0.4132 - val_loss: 0.3945 - val_mse: 0.2696 - val_mae: 0.3743\n",
      "Epoch 19/50\n",
      "6250/6250 [==============================] - 10s 2ms/step - loss: 0.4311 - mse: 0.3138 - mae: 0.4108 - val_loss: 0.3940 - val_mse: 0.2692 - val_mae: 0.3738\n",
      "Epoch 20/50\n",
      "6250/6250 [==============================] - 11s 2ms/step - loss: 0.4298 - mse: 0.3122 - mae: 0.4096 - val_loss: 0.3930 - val_mse: 0.2677 - val_mae: 0.3728\n",
      "Epoch 21/50\n",
      "6250/6250 [==============================] - 10s 2ms/step - loss: 0.4288 - mse: 0.3114 - mae: 0.4086 - val_loss: 0.3923 - val_mse: 0.2665 - val_mae: 0.3719\n",
      "Epoch 22/50\n",
      "6250/6250 [==============================] - 10s 2ms/step - loss: 0.4270 - mse: 0.3092 - mae: 0.4067 - val_loss: 0.3916 - val_mse: 0.2662 - val_mae: 0.3713\n",
      "Epoch 23/50\n",
      "6250/6250 [==============================] - 10s 2ms/step - loss: 0.4254 - mse: 0.3073 - mae: 0.4051 - val_loss: 0.3909 - val_mse: 0.2654 - val_mae: 0.3705\n",
      "Epoch 24/50\n",
      "6250/6250 [==============================] - 10s 2ms/step - loss: 0.4246 - mse: 0.3061 - mae: 0.4042 - val_loss: 0.3902 - val_mse: 0.2645 - val_mae: 0.3698\n",
      "Epoch 25/50\n",
      "6250/6250 [==============================] - 10s 2ms/step - loss: 0.4239 - mse: 0.3052 - mae: 0.4034 - val_loss: 0.3900 - val_mse: 0.2642 - val_mae: 0.3694\n",
      "Epoch 26/50\n",
      "6250/6250 [==============================] - 10s 2ms/step - loss: 0.4225 - mse: 0.3029 - mae: 0.4018 - val_loss: 0.3893 - val_mse: 0.2631 - val_mae: 0.3685\n",
      "Epoch 27/50\n",
      "6250/6250 [==============================] - 10s 2ms/step - loss: 0.4213 - mse: 0.3014 - mae: 0.4004 - val_loss: 0.3888 - val_mse: 0.2616 - val_mae: 0.3677\n",
      "Epoch 28/50\n",
      "6250/6250 [==============================] - 10s 2ms/step - loss: 0.4208 - mse: 0.3001 - mae: 0.3997 - val_loss: 0.3880 - val_mse: 0.2602 - val_mae: 0.3667\n",
      "Epoch 29/50\n",
      "6250/6250 [==============================] - 10s 2ms/step - loss: 0.4204 - mse: 0.2995 - mae: 0.3991 - val_loss: 0.3877 - val_mse: 0.2594 - val_mae: 0.3661\n",
      "Epoch 30/50\n",
      "6250/6250 [==============================] - 10s 2ms/step - loss: 0.4190 - mse: 0.2968 - mae: 0.3972 - val_loss: 0.3872 - val_mse: 0.2582 - val_mae: 0.3652\n",
      "Epoch 31/50\n",
      "6250/6250 [==============================] - 10s 2ms/step - loss: 0.4178 - mse: 0.2948 - mae: 0.3957 - val_loss: 0.3864 - val_mse: 0.2569 - val_mae: 0.3641\n",
      "Epoch 32/50\n",
      "6250/6250 [==============================] - 11s 2ms/step - loss: 0.4171 - mse: 0.2934 - mae: 0.3946 - val_loss: 0.3860 - val_mse: 0.2554 - val_mae: 0.3631\n",
      "Epoch 33/50\n",
      "6250/6250 [==============================] - 10s 2ms/step - loss: 0.4158 - mse: 0.2911 - mae: 0.3929 - val_loss: 0.3852 - val_mse: 0.2537 - val_mae: 0.3618\n",
      "Epoch 34/50\n",
      "6250/6250 [==============================] - 10s 2ms/step - loss: 0.4144 - mse: 0.2885 - mae: 0.3909 - val_loss: 0.3842 - val_mse: 0.2517 - val_mae: 0.3602\n",
      "Epoch 35/50\n",
      "6250/6250 [==============================] - 10s 2ms/step - loss: 0.4133 - mse: 0.2866 - mae: 0.3892 - val_loss: 0.3828 - val_mse: 0.2496 - val_mae: 0.3585\n",
      "Epoch 36/50\n",
      "6250/6250 [==============================] - 10s 2ms/step - loss: 0.4119 - mse: 0.2836 - mae: 0.3873 - val_loss: 0.3812 - val_mse: 0.2475 - val_mae: 0.3563\n",
      "Epoch 37/50\n",
      "6250/6250 [==============================] - 11s 2ms/step - loss: 0.4110 - mse: 0.2821 - mae: 0.3859 - val_loss: 0.3800 - val_mse: 0.2459 - val_mae: 0.3545\n",
      "Epoch 38/50\n",
      "6250/6250 [==============================] - 10s 2ms/step - loss: 0.4099 - mse: 0.2805 - mae: 0.3843 - val_loss: 0.3781 - val_mse: 0.2421 - val_mae: 0.3521\n",
      "Epoch 39/50\n",
      "6250/6250 [==============================] - 10s 2ms/step - loss: 0.4076 - mse: 0.2770 - mae: 0.3816 - val_loss: 0.3764 - val_mse: 0.2403 - val_mae: 0.3501\n",
      "Epoch 40/50\n",
      "6250/6250 [==============================] - 11s 2ms/step - loss: 0.4068 - mse: 0.2754 - mae: 0.3804 - val_loss: 0.3752 - val_mse: 0.2385 - val_mae: 0.3484\n",
      "Epoch 41/50\n",
      "6250/6250 [==============================] - 10s 2ms/step - loss: 0.4054 - mse: 0.2730 - mae: 0.3784 - val_loss: 0.3734 - val_mse: 0.2359 - val_mae: 0.3461\n",
      "Epoch 42/50\n",
      "6250/6250 [==============================] - 10s 2ms/step - loss: 0.4041 - mse: 0.2711 - mae: 0.3766 - val_loss: 0.3714 - val_mse: 0.2330 - val_mae: 0.3435\n",
      "Epoch 43/50\n",
      "6250/6250 [==============================] - 10s 2ms/step - loss: 0.4026 - mse: 0.2691 - mae: 0.3748 - val_loss: 0.3696 - val_mse: 0.2298 - val_mae: 0.3414\n",
      "Epoch 44/50\n",
      "6250/6250 [==============================] - 10s 2ms/step - loss: 0.4016 - mse: 0.2674 - mae: 0.3734 - val_loss: 0.3680 - val_mse: 0.2288 - val_mae: 0.3395\n",
      "Epoch 45/50\n",
      "6250/6250 [==============================] - 10s 2ms/step - loss: 0.4008 - mse: 0.2658 - mae: 0.3723 - val_loss: 0.3664 - val_mse: 0.2261 - val_mae: 0.3376\n",
      "Epoch 46/50\n",
      "6250/6250 [==============================] - 10s 2ms/step - loss: 0.3995 - mse: 0.2639 - mae: 0.3707 - val_loss: 0.3652 - val_mse: 0.2246 - val_mae: 0.3362\n",
      "Epoch 47/50\n",
      "6250/6250 [==============================] - 10s 2ms/step - loss: 0.3985 - mse: 0.2627 - mae: 0.3695 - val_loss: 0.3639 - val_mse: 0.2225 - val_mae: 0.3347\n",
      "Epoch 48/50\n",
      "6250/6250 [==============================] - 10s 2ms/step - loss: 0.3968 - mse: 0.2603 - mae: 0.3677 - val_loss: 0.3627 - val_mse: 0.2212 - val_mae: 0.3335\n",
      "Epoch 49/50\n",
      "6250/6250 [==============================] - 10s 2ms/step - loss: 0.3965 - mse: 0.2600 - mae: 0.3673 - val_loss: 0.3613 - val_mse: 0.2200 - val_mae: 0.3320\n",
      "Epoch 50/50\n",
      "6250/6250 [==============================] - 10s 2ms/step - loss: 0.3955 - mse: 0.2586 - mae: 0.3662 - val_loss: 0.3603 - val_mse: 0.2191 - val_mae: 0.3309\n"
     ]
    }
   ],
   "source": [
    "history = MLP_model.fit(\n",
    "    x_train, y_train, validation_data=(x_val, y_val), epochs=50, batch_size=128\n",
    ")"
   ]
  },
  {
   "cell_type": "code",
   "execution_count": 43,
   "id": "differential-bargain",
   "metadata": {},
   "outputs": [],
   "source": [
    "history4=history"
   ]
  },
  {
   "cell_type": "code",
   "execution_count": 44,
   "id": "marine-forge",
   "metadata": {},
   "outputs": [
    {
     "data": {
      "text/plain": [
       "[<matplotlib.lines.Line2D at 0x1489ecd31a60>]"
      ]
     },
     "execution_count": 44,
     "metadata": {},
     "output_type": "execute_result"
    },
    {
     "data": {
      "image/png": "[encoded data removed]",
      "text/plain": [
       "<Figure size 432x288 with 1 Axes>"
      ]
     },
     "metadata": {
      "needs_background": "light"
     },
     "output_type": "display_data"
    }
   ],
   "source": [
    "plt.plot(history.history[\"mae\"])\n",
    "plt.plot(history.history[\"val_mae\"])"
   ]
  },
  {
   "cell_type": "code",
   "execution_count": 45,
   "id": "common-island",
   "metadata": {},
   "outputs": [
    {
     "data": {
      "text/plain": [
       "[<matplotlib.lines.Line2D at 0x148978fd4670>]"
      ]
     },
     "execution_count": 45,
     "metadata": {},
     "output_type": "execute_result"
    },
    {
     "data": {
      "image/png": "[encoded data removed]",
      "text/plain": [
       "<Figure size 432x288 with 1 Axes>"
      ]
     },
     "metadata": {
      "needs_background": "light"
     },
     "output_type": "display_data"
    }
   ],
   "source": [
    "plt.plot(history.history[\"loss\"])\n",
    "plt.plot(history.history[\"val_loss\"])"
   ]
  },
  {
   "cell_type": "code",
   "execution_count": null,
   "id": "suburban-eagle",
   "metadata": {},
   "outputs": [],
   "source": [
    "MLP_model.evaluate(x_test, y_test)"
   ]
  },
  {
   "cell_type": "code",
   "execution_count": null,
   "id": "several-strap",
   "metadata": {},
   "outputs": [],
   "source": [
    "reduced_scaler.inverse_transform(y_test)"
   ]
  },
  {
   "cell_type": "code",
   "execution_count": null,
   "id": "olympic-carpet",
   "metadata": {},
   "outputs": [],
   "source": [
    "reduced_scaler.inverse_transform(MLP_model.predict(x_test))"
   ]
  },
  {
   "cell_type": "markdown",
   "id": "aware-asian",
   "metadata": {},
   "source": [
    "## Initialise Convolutional Neural Network"
   ]
  },
  {
   "cell_type": "markdown",
   "id": "caroline-surprise",
   "metadata": {},
   "source": [
    "#### Try more layers (even though fewer layers seems to have had a positive effect on the output.\n",
    "#### Also, check output accuracy per feature"
   ]
  },
  {
   "cell_type": "code",
   "execution_count": 14,
   "id": "sublime-visibility",
   "metadata": {},
   "outputs": [],
   "source": [
    "inputs = Input(shape=(x_train.shape[1], 1), name=\"Input_Layer\")\n",
    "\n",
    "layer = layers.Conv1D(64, 9, activation=\"relu\", name=\"Conv_Layer_1\")(inputs)\n",
    "# layer = layers.MaxPool1D(2, name=\"Pooling_Layer\")(layer)\n",
    "layer = layers.Conv1D(\n",
    "    128,\n",
    "    5,\n",
    "    activation=\"relu\",\n",
    "    kernel_initializer=\"glorot_uniform\",\n",
    "    kernel_regularizer=\"l2\",\n",
    "    name=\"Conv_Layer_2\",\n",
    ")(layer)\n",
    "layer = layers.Dropout(0.5, name=\"Dropout_Layer\")(layer)\n",
    "layer = layers.Conv1D(\n",
    "    64,\n",
    "    5,\n",
    "    activation=\"relu\",\n",
    "    kernel_initializer=\"glorot_uniform\",\n",
    "    kernel_regularizer=\"l2\",\n",
    "    name=\"Conv_Layer_3\",\n",
    ")(layer)\n",
    "layer = layers.Dropout(0.5, name=\"Dropout_Layer2\")(layer)\n",
    "layer = layers.Conv1D(\n",
    "    64,\n",
    "    3,\n",
    "    activation=\"relu\",\n",
    "    kernel_initializer=\"glorot_uniform\",\n",
    "    kernel_regularizer=\"l2\",\n",
    "    name=\"Conv_Layer_4\",\n",
    ")(layer)\n",
    "layer = layers.Flatten(name=\"Flatten_Layer\")(layer)\n",
    "# layer = layers.Dense(10, name=\"Fully_Connected_Layer\")(layer)\n",
    "\n",
    "outputs = layers.Dense(4, name=\"Output_Layer\")(layer)"
   ]
  },
  {
   "cell_type": "code",
   "execution_count": 15,
   "id": "continued-compact",
   "metadata": {},
   "outputs": [],
   "source": [
    "CNN_model = models.Model(inputs=inputs, outputs=outputs, name=\"CNN\")"
   ]
  },
  {
   "cell_type": "code",
   "execution_count": 16,
   "id": "associate-briefing",
   "metadata": {},
   "outputs": [
    {
     "name": "stdout",
     "output_type": "stream",
     "text": [
      "Model: \"CNN\"\n",
      "_________________________________________________________________\n",
      "Layer (type)                 Output Shape              Param #   \n",
      "=================================================================\n",
      "Input_Layer (InputLayer)     [(None, 19, 1)]           0         \n",
      "_________________________________________________________________\n",
      "Conv_Layer_1 (Conv1D)        (None, 11, 64)            640       \n",
      "_________________________________________________________________\n",
      "Conv_Layer_2 (Conv1D)        (None, 7, 128)            41088     \n",
      "_________________________________________________________________\n",
      "Dropout_Layer (Dropout)      (None, 7, 128)            0         \n",
      "_________________________________________________________________\n",
      "Conv_Layer_3 (Conv1D)        (None, 3, 64)             41024     \n",
      "_________________________________________________________________\n",
      "Dropout_Layer2 (Dropout)     (None, 3, 64)             0         \n",
      "_________________________________________________________________\n",
      "Conv_Layer_4 (Conv1D)        (None, 1, 64)             12352     \n",
      "_________________________________________________________________\n",
      "Flatten_Layer (Flatten)      (None, 64)                0         \n",
      "_________________________________________________________________\n",
      "Output_Layer (Dense)         (None, 4)                 260       \n",
      "=================================================================\n",
      "Total params: 95,364\n",
      "Trainable params: 95,364\n",
      "Non-trainable params: 0\n",
      "_________________________________________________________________\n"
     ]
    }
   ],
   "source": [
    "CNN_model.summary()"
   ]
  },
  {
   "cell_type": "code",
   "execution_count": 17,
   "id": "assumed-promise",
   "metadata": {},
   "outputs": [],
   "source": [
    "CNN_model.compile(\n",
    "    loss=\"mae\", optimizer=Adam(learning_rate=1e-4), metrics=[\"mse\", \"mae\"]\n",
    ")"
   ]
  },
  {
   "cell_type": "code",
   "execution_count": 18,
   "id": "settled-cedar",
   "metadata": {},
   "outputs": [
    {
     "name": "stdout",
     "output_type": "stream",
     "text": [
      "Epoch 1/50\n",
      "6250/6250 [==============================] - 23s 3ms/step - loss: 0.9552 - mse: 0.3833 - mae: 0.4461 - val_loss: 0.3185 - val_mse: 0.1475 - val_mae: 0.2608\n",
      "Epoch 2/50\n",
      "6250/6250 [==============================] - 18s 3ms/step - loss: 0.3544 - mse: 0.1754 - mae: 0.2968 - val_loss: 0.2729 - val_mse: 0.1114 - val_mae: 0.2164\n",
      "Epoch 3/50\n",
      "6250/6250 [==============================] - 17s 3ms/step - loss: 0.3201 - mse: 0.1458 - mae: 0.2643 - val_loss: 0.2510 - val_mse: 0.0973 - val_mae: 0.1975\n",
      "Epoch 4/50\n",
      "6250/6250 [==============================] - 17s 3ms/step - loss: 0.3027 - mse: 0.1327 - mae: 0.2499 - val_loss: 0.2396 - val_mse: 0.0904 - val_mae: 0.1894\n",
      "Epoch 5/50\n",
      "6250/6250 [==============================] - 17s 3ms/step - loss: 0.2922 - mse: 0.1260 - mae: 0.2425 - val_loss: 0.2308 - val_mse: 0.0852 - val_mae: 0.1829\n",
      "Epoch 6/50\n",
      "6250/6250 [==============================] - 17s 3ms/step - loss: 0.2829 - mse: 0.1197 - mae: 0.2353 - val_loss: 0.2180 - val_mse: 0.0772 - val_mae: 0.1712\n",
      "Epoch 7/50\n",
      "6250/6250 [==============================] - 17s 3ms/step - loss: 0.2763 - mse: 0.1148 - mae: 0.2297 - val_loss: 0.2117 - val_mse: 0.0738 - val_mae: 0.1663\n",
      "Epoch 8/50\n",
      "6250/6250 [==============================] - 17s 3ms/step - loss: 0.2705 - mse: 0.1109 - mae: 0.2253 - val_loss: 0.2051 - val_mse: 0.0702 - val_mae: 0.1609\n",
      "Epoch 9/50\n",
      "6250/6250 [==============================] - 17s 3ms/step - loss: 0.2666 - mse: 0.1086 - mae: 0.2226 - val_loss: 0.2023 - val_mse: 0.0690 - val_mae: 0.1592\n",
      "Epoch 10/50\n",
      "6250/6250 [==============================] - 17s 3ms/step - loss: 0.2626 - mse: 0.1056 - mae: 0.2196 - val_loss: 0.1974 - val_mse: 0.0643 - val_mae: 0.1549\n",
      "Epoch 11/50\n",
      "6250/6250 [==============================] - 17s 3ms/step - loss: 0.2598 - mse: 0.1042 - mae: 0.2178 - val_loss: 0.1953 - val_mse: 0.0640 - val_mae: 0.1544\n",
      "Epoch 12/50\n",
      "6250/6250 [==============================] - 17s 3ms/step - loss: 0.2574 - mse: 0.1030 - mae: 0.2166 - val_loss: 0.1944 - val_mse: 0.0638 - val_mae: 0.1541\n",
      "Epoch 13/50\n",
      "6250/6250 [==============================] - 17s 3ms/step - loss: 0.2555 - mse: 0.1021 - mae: 0.2155 - val_loss: 0.1948 - val_mse: 0.0635 - val_mae: 0.1552\n",
      "Epoch 14/50\n",
      "6250/6250 [==============================] - 17s 3ms/step - loss: 0.2530 - mse: 0.1005 - mae: 0.2137 - val_loss: 0.1897 - val_mse: 0.0622 - val_mae: 0.1509\n",
      "Epoch 15/50\n",
      "6250/6250 [==============================] - 17s 3ms/step - loss: 0.2510 - mse: 0.0993 - mae: 0.2122 - val_loss: 0.1901 - val_mse: 0.0623 - val_mae: 0.1516\n",
      "Epoch 16/50\n",
      "6250/6250 [==============================] - 17s 3ms/step - loss: 0.2491 - mse: 0.0979 - mae: 0.2108 - val_loss: 0.1851 - val_mse: 0.0590 - val_mae: 0.1475\n",
      "Epoch 17/50\n",
      "6250/6250 [==============================] - 17s 3ms/step - loss: 0.2477 - mse: 0.0974 - mae: 0.2100 - val_loss: 0.1878 - val_mse: 0.0604 - val_mae: 0.1506\n",
      "Epoch 18/50\n",
      "6250/6250 [==============================] - 17s 3ms/step - loss: 0.2465 - mse: 0.0968 - mae: 0.2093 - val_loss: 0.1836 - val_mse: 0.0593 - val_mae: 0.1468\n",
      "Epoch 19/50\n",
      "6250/6250 [==============================] - 16s 3ms/step - loss: 0.2453 - mse: 0.0963 - mae: 0.2086 - val_loss: 0.1824 - val_mse: 0.0577 - val_mae: 0.1463\n",
      "Epoch 20/50\n",
      "6250/6250 [==============================] - 17s 3ms/step - loss: 0.2444 - mse: 0.0960 - mae: 0.2081 - val_loss: 0.1819 - val_mse: 0.0575 - val_mae: 0.1458\n",
      "Epoch 21/50\n",
      "6250/6250 [==============================] - 17s 3ms/step - loss: 0.2434 - mse: 0.0949 - mae: 0.2076 - val_loss: 0.1825 - val_mse: 0.0578 - val_mae: 0.1470\n",
      "Epoch 22/50\n",
      "6250/6250 [==============================] - 17s 3ms/step - loss: 0.2425 - mse: 0.0949 - mae: 0.2071 - val_loss: 0.1771 - val_mse: 0.0553 - val_mae: 0.1420\n",
      "Epoch 23/50\n",
      "6250/6250 [==============================] - 17s 3ms/step - loss: 0.2417 - mse: 0.0944 - mae: 0.2066 - val_loss: 0.1791 - val_mse: 0.0560 - val_mae: 0.1441\n",
      "Epoch 24/50\n",
      "6250/6250 [==============================] - 17s 3ms/step - loss: 0.2405 - mse: 0.0937 - mae: 0.2055 - val_loss: 0.1767 - val_mse: 0.0552 - val_mae: 0.1421\n",
      "Epoch 25/50\n",
      "6250/6250 [==============================] - 17s 3ms/step - loss: 0.2394 - mse: 0.0933 - mae: 0.2047 - val_loss: 0.1779 - val_mse: 0.0560 - val_mae: 0.1433\n",
      "Epoch 26/50\n",
      "6250/6250 [==============================] - 17s 3ms/step - loss: 0.2385 - mse: 0.0924 - mae: 0.2040 - val_loss: 0.1765 - val_mse: 0.0560 - val_mae: 0.1425\n",
      "Epoch 27/50\n",
      "6250/6250 [==============================] - 17s 3ms/step - loss: 0.2382 - mse: 0.0926 - mae: 0.2041 - val_loss: 0.1778 - val_mse: 0.0568 - val_mae: 0.1437\n",
      "Epoch 28/50\n",
      "6250/6250 [==============================] - 17s 3ms/step - loss: 0.2374 - mse: 0.0921 - mae: 0.2035 - val_loss: 0.1737 - val_mse: 0.0541 - val_mae: 0.1401\n",
      "Epoch 29/50\n",
      "6250/6250 [==============================] - 17s 3ms/step - loss: 0.2367 - mse: 0.0918 - mae: 0.2030 - val_loss: 0.1739 - val_mse: 0.0527 - val_mae: 0.1403\n",
      "Epoch 30/50\n",
      "6250/6250 [==============================] - 17s 3ms/step - loss: 0.2356 - mse: 0.0910 - mae: 0.2021 - val_loss: 0.1732 - val_mse: 0.0533 - val_mae: 0.1399\n",
      "Epoch 31/50\n",
      "6250/6250 [==============================] - 17s 3ms/step - loss: 0.2354 - mse: 0.0910 - mae: 0.2021 - val_loss: 0.1777 - val_mse: 0.0557 - val_mae: 0.1445\n",
      "Epoch 32/50\n",
      "6250/6250 [==============================] - 17s 3ms/step - loss: 0.2348 - mse: 0.0906 - mae: 0.2017 - val_loss: 0.1722 - val_mse: 0.0536 - val_mae: 0.1390\n",
      "Epoch 33/50\n",
      "6250/6250 [==============================] - 17s 3ms/step - loss: 0.2346 - mse: 0.0904 - mae: 0.2017 - val_loss: 0.1710 - val_mse: 0.0526 - val_mae: 0.1384\n",
      "Epoch 34/50\n",
      "6250/6250 [==============================] - 17s 3ms/step - loss: 0.2341 - mse: 0.0902 - mae: 0.2014 - val_loss: 0.1739 - val_mse: 0.0540 - val_mae: 0.1413\n",
      "Epoch 35/50\n",
      "6250/6250 [==============================] - 17s 3ms/step - loss: 0.2333 - mse: 0.0900 - mae: 0.2007 - val_loss: 0.1699 - val_mse: 0.0523 - val_mae: 0.1373\n",
      "Epoch 36/50\n",
      "6250/6250 [==============================] - 17s 3ms/step - loss: 0.2327 - mse: 0.0895 - mae: 0.2002 - val_loss: 0.1728 - val_mse: 0.0546 - val_mae: 0.1403\n",
      "Epoch 37/50\n",
      "6250/6250 [==============================] - 17s 3ms/step - loss: 0.2322 - mse: 0.0892 - mae: 0.1999 - val_loss: 0.1723 - val_mse: 0.0529 - val_mae: 0.1401\n",
      "Epoch 38/50\n",
      "6250/6250 [==============================] - 17s 3ms/step - loss: 0.2322 - mse: 0.0892 - mae: 0.2000 - val_loss: 0.1692 - val_mse: 0.0512 - val_mae: 0.1371\n",
      "Epoch 39/50\n",
      "6250/6250 [==============================] - 17s 3ms/step - loss: 0.2313 - mse: 0.0887 - mae: 0.1993 - val_loss: 0.1716 - val_mse: 0.0536 - val_mae: 0.1398\n",
      "Epoch 40/50\n",
      "6250/6250 [==============================] - 17s 3ms/step - loss: 0.2311 - mse: 0.0885 - mae: 0.1992 - val_loss: 0.1719 - val_mse: 0.0547 - val_mae: 0.1400\n",
      "Epoch 41/50\n",
      "6250/6250 [==============================] - 17s 3ms/step - loss: 0.2307 - mse: 0.0883 - mae: 0.1989 - val_loss: 0.1743 - val_mse: 0.0542 - val_mae: 0.1426\n",
      "Epoch 42/50\n",
      "6250/6250 [==============================] - 17s 3ms/step - loss: 0.2304 - mse: 0.0883 - mae: 0.1987 - val_loss: 0.1688 - val_mse: 0.0534 - val_mae: 0.1372\n",
      "Epoch 43/50\n",
      "6250/6250 [==============================] - 17s 3ms/step - loss: 0.2305 - mse: 0.0884 - mae: 0.1990 - val_loss: 0.1709 - val_mse: 0.0528 - val_mae: 0.1396\n",
      "Epoch 44/50\n",
      "6250/6250 [==============================] - 17s 3ms/step - loss: 0.2301 - mse: 0.0885 - mae: 0.1988 - val_loss: 0.1660 - val_mse: 0.0506 - val_mae: 0.1347\n",
      "Epoch 45/50\n",
      "6250/6250 [==============================] - 17s 3ms/step - loss: 0.2295 - mse: 0.0880 - mae: 0.1982 - val_loss: 0.1710 - val_mse: 0.0532 - val_mae: 0.1398\n",
      "Epoch 46/50\n",
      "6250/6250 [==============================] - 17s 3ms/step - loss: 0.2290 - mse: 0.0875 - mae: 0.1977 - val_loss: 0.1664 - val_mse: 0.0515 - val_mae: 0.1352\n",
      "Epoch 47/50\n",
      "6250/6250 [==============================] - 17s 3ms/step - loss: 0.2286 - mse: 0.0872 - mae: 0.1974 - val_loss: 0.1657 - val_mse: 0.0507 - val_mae: 0.1346\n",
      "Epoch 48/50\n",
      "6250/6250 [==============================] - 17s 3ms/step - loss: 0.2280 - mse: 0.0869 - mae: 0.1969 - val_loss: 0.1688 - val_mse: 0.0505 - val_mae: 0.1377\n",
      "Epoch 49/50\n",
      "6250/6250 [==============================] - 17s 3ms/step - loss: 0.2283 - mse: 0.0874 - mae: 0.1974 - val_loss: 0.1705 - val_mse: 0.0523 - val_mae: 0.1397\n",
      "Epoch 50/50\n",
      "6250/6250 [==============================] - 17s 3ms/step - loss: 0.2277 - mse: 0.0870 - mae: 0.1970 - val_loss: 0.1665 - val_mse: 0.0503 - val_mae: 0.1357\n"
     ]
    }
   ],
   "source": [
    "history = CNN_model.fit(\n",
    "    x_train,\n",
    "    y_train,\n",
    "    validation_data=(x_val, y_val),\n",
    "    epochs=50,\n",
    "    batch_size=128,\n",
    ")"
   ]
  },
  {
   "cell_type": "code",
   "execution_count": 19,
   "id": "steady-narrow",
   "metadata": {},
   "outputs": [],
   "source": [
    "history2 = history"
   ]
  },
  {
   "cell_type": "code",
   "execution_count": 20,
   "id": "frequent-sauce",
   "metadata": {},
   "outputs": [
    {
     "name": "stdout",
     "output_type": "stream",
     "text": [
      "3125/3125 [==============================] - 5s 2ms/step - loss: 0.1660 - mse: 0.0499 - mae: 0.1353\n"
     ]
    },
    {
     "data": {
      "text/plain": [
       "[0.1660342961549759, 0.04986920580267906, 0.1353159248828888]"
      ]
     },
     "execution_count": 20,
     "metadata": {},
     "output_type": "execute_result"
    }
   ],
   "source": [
    "CNN_model.evaluate(x_test, y_test)"
   ]
  },
  {
   "cell_type": "code",
   "execution_count": 21,
   "id": "scientific-concert",
   "metadata": {},
   "outputs": [
    {
     "data": {
      "text/plain": [
       "[<matplotlib.lines.Line2D at 0x14957fc655e0>]"
      ]
     },
     "execution_count": 21,
     "metadata": {},
     "output_type": "execute_result"
    },
    {
     "data": {
      "image/png": "[encoded data removed]",
      "text/plain": [
       "<Figure size 432x288 with 1 Axes>"
      ]
     },
     "metadata": {
      "needs_background": "light"
     },
     "output_type": "display_data"
    }
   ],
   "source": [
    "plt.plot(history.history[\"mse\"])\n",
    "plt.plot(history.history[\"val_mse\"])\n",
    "# plt.plot(history.history[\"accuracy\"])\n",
    "# plt.plot(history.history[\"val_accuracy\"])"
   ]
  },
  {
   "cell_type": "code",
   "execution_count": 22,
   "id": "formal-statement",
   "metadata": {},
   "outputs": [
    {
     "data": {
      "text/plain": [
       "[<matplotlib.lines.Line2D at 0x14957fb4b2b0>]"
      ]
     },
     "execution_count": 22,
     "metadata": {},
     "output_type": "execute_result"
    },
    {
     "data": {
      "image/png": "[encoded data removed]",
      "text/plain": [
       "<Figure size 432x288 with 1 Axes>"
      ]
     },
     "metadata": {
      "needs_background": "light"
     },
     "output_type": "display_data"
    }
   ],
   "source": [
    "plt.plot(history.history[\"mae\"])\n",
    "plt.plot(history.history[\"val_mae\"])\n",
    "# plt.plot(history.history[\"loss\"])\n",
    "# plt.plot(history.history[\"val_loss\"])"
   ]
  },
  {
   "cell_type": "code",
   "execution_count": null,
   "id": "personalized-accommodation",
   "metadata": {},
   "outputs": [],
   "source": [
    "reduced_scaler.inverse_transform(CNN_model.predict(x_test))"
   ]
  },
  {
   "cell_type": "code",
   "execution_count": null,
   "id": "induced-mailman",
   "metadata": {},
   "outputs": [],
   "source": [
    "reduced_scaler.inverse_transform(y_test)"
   ]
  },
  {
   "cell_type": "markdown",
   "id": "quarterly-flood",
   "metadata": {},
   "source": [
    "## Configurations that Work"
   ]
  },
  {
   "cell_type": "markdown",
   "id": "changed-things",
   "metadata": {},
   "source": [
    "### Go for this one and try to improve"
   ]
  },
  {
   "cell_type": "code",
   "execution_count": 154,
   "id": "breathing-jacob",
   "metadata": {},
   "outputs": [],
   "source": [
    "dropout_rate = 0.5\n",
    "learning_rate = 0.000040\n",
    "batch_size = 128\n",
    "loss_function = \"mse\""
   ]
  },
  {
   "cell_type": "code",
   "execution_count": 155,
   "id": "transsexual-bedroom",
   "metadata": {},
   "outputs": [],
   "source": [
    "inputs = Input(shape=(x_train.shape[1], 1), name=\"Input_Layer\")\n",
    "\n",
    "layer = layers.Conv1D(64, 9, activation=\"relu\", name=\"Conv_Layer_1\")(inputs)\n",
    "layer = layers.Conv1D(\n",
    "    128,\n",
    "    5,\n",
    "    activation=\"relu\",\n",
    "    kernel_initializer=\"glorot_uniform\",\n",
    "    kernel_regularizer=\"l2\",\n",
    "    name=\"Conv_Layer_2\",\n",
    ")(layer)\n",
    "layer = layers.Dropout(dropout_rate, name=\"Dropout_Layer_1\")(layer)\n",
    "layer = layers.Conv1D(\n",
    "    128,\n",
    "    5,\n",
    "    activation=\"relu\",\n",
    "    kernel_initializer=\"glorot_uniform\",\n",
    "    kernel_regularizer=\"l2\",\n",
    "    name=\"Conv_Layer_3\",\n",
    ")(layer)\n",
    "layer = layers.Dropout(dropout_rate, name=\"Dropout_Layer_2\")(layer)\n",
    "layer = layers.Conv1D(\n",
    "    128,\n",
    "    3,\n",
    "    activation=\"relu\",\n",
    "    kernel_initializer=\"glorot_uniform\",\n",
    "    kernel_regularizer=\"l2\",\n",
    "    name=\"Conv_Layer_4\",\n",
    ")(layer)\n",
    "layer = layers.Flatten(name=\"Flatten_Layer\")(layer)\n",
    "\n",
    "layer = layers.Dense(20, activation=\"relu\", name=\"Fully_Connected_Layer\")(layer)\n",
    "\n",
    "outputs = layers.Dense(4, name=\"Output_Layer\")(layer)"
   ]
  },
  {
   "cell_type": "code",
   "execution_count": 156,
   "id": "unlikely-surgery",
   "metadata": {},
   "outputs": [],
   "source": [
    "CNN_model = models.Model(inputs=inputs, outputs=outputs, name=\"CNN\")"
   ]
  },
  {
   "cell_type": "code",
   "execution_count": 157,
   "id": "medium-judge",
   "metadata": {},
   "outputs": [
    {
     "name": "stdout",
     "output_type": "stream",
     "text": [
      "Model: \"CNN\"\n",
      "_________________________________________________________________\n",
      "Layer (type)                 Output Shape              Param #   \n",
      "=================================================================\n",
      "Input_Layer (InputLayer)     [(None, 19, 1)]           0         \n",
      "_________________________________________________________________\n",
      "Conv_Layer_1 (Conv1D)        (None, 11, 64)            640       \n",
      "_________________________________________________________________\n",
      "Conv_Layer_2 (Conv1D)        (None, 7, 128)            41088     \n",
      "_________________________________________________________________\n",
      "Dropout_Layer_1 (Dropout)    (None, 7, 128)            0         \n",
      "_________________________________________________________________\n",
      "Conv_Layer_3 (Conv1D)        (None, 3, 128)            82048     \n",
      "_________________________________________________________________\n",
      "Dropout_Layer_2 (Dropout)    (None, 3, 128)            0         \n",
      "_________________________________________________________________\n",
      "Conv_Layer_4 (Conv1D)        (None, 1, 128)            49280     \n",
      "_________________________________________________________________\n",
      "Flatten_Layer (Flatten)      (None, 128)               0         \n",
      "_________________________________________________________________\n",
      "Fully_Connected_Layer (Dense (None, 20)                2580      \n",
      "_________________________________________________________________\n",
      "Output_Layer (Dense)         (None, 4)                 84        \n",
      "=================================================================\n",
      "Total params: 175,720\n",
      "Trainable params: 175,720\n",
      "Non-trainable params: 0\n",
      "_________________________________________________________________\n"
     ]
    }
   ],
   "source": [
    "CNN_model.summary()"
   ]
  },
  {
   "cell_type": "code",
   "execution_count": 158,
   "id": "separated-burning",
   "metadata": {},
   "outputs": [],
   "source": [
    "CNN_model.compile(\n",
    "    loss=loss_function,\n",
    "    optimizer=Adam(learning_rate=learning_rate),\n",
    "    metrics=[\"mse\", \"mae\"],\n",
    ")"
   ]
  },
  {
   "cell_type": "code",
   "execution_count": null,
   "id": "under-wonder",
   "metadata": {},
   "outputs": [],
   "source": [
    "def schedule(epoch, lr):\n",
    "    if epoch < 10:\n",
    "        return lr\n",
    "    elif epoch % 10 == 0:\n",
    "        return lr * tf.math.exp(0.1)\n",
    "    else:\n",
    "        return lr"
   ]
  },
  {
   "cell_type": "code",
   "execution_count": null,
   "id": "brave-greensboro",
   "metadata": {},
   "outputs": [],
   "source": [
    "callback = tf.keras.callbacks.LearningRateScheduler(schedule)"
   ]
  },
  {
   "cell_type": "code",
   "execution_count": 159,
   "id": "narrative-sample",
   "metadata": {},
   "outputs": [
    {
     "name": "stdout",
     "output_type": "stream",
     "text": [
      "Epoch 1/100\n",
      "6250/6250 [==============================] - 19s 3ms/step - loss: 1.6768 - mse: 0.4515 - mae: 0.4926 - val_loss: 0.2181 - val_mse: 0.1401 - val_mae: 0.2655\n",
      "Epoch 2/100\n",
      "6250/6250 [==============================] - 17s 3ms/step - loss: 0.2338 - mse: 0.1660 - mae: 0.2996 - val_loss: 0.1593 - val_mse: 0.1046 - val_mae: 0.2217\n",
      "Epoch 3/100\n",
      "6250/6250 [==============================] - 17s 3ms/step - loss: 0.1871 - mse: 0.1342 - mae: 0.2659 - val_loss: 0.1325 - val_mse: 0.0835 - val_mae: 0.1926\n",
      "Epoch 4/100\n",
      "6250/6250 [==============================] - 17s 3ms/step - loss: 0.1633 - mse: 0.1152 - mae: 0.2433 - val_loss: 0.1163 - val_mse: 0.0703 - val_mae: 0.1720\n",
      "Epoch 5/100\n",
      "6250/6250 [==============================] - 18s 3ms/step - loss: 0.1475 - mse: 0.1025 - mae: 0.2277 - val_loss: 0.1051 - val_mse: 0.0625 - val_mae: 0.1608\n",
      "Epoch 6/100\n",
      "6250/6250 [==============================] - 17s 3ms/step - loss: 0.1372 - mse: 0.0954 - mae: 0.2189 - val_loss: 0.0986 - val_mse: 0.0589 - val_mae: 0.1560\n",
      "Epoch 7/100\n",
      "6250/6250 [==============================] - 16s 3ms/step - loss: 0.1296 - mse: 0.0905 - mae: 0.2126 - val_loss: 0.0916 - val_mse: 0.0542 - val_mae: 0.1473\n",
      "Epoch 8/100\n",
      "6250/6250 [==============================] - 17s 3ms/step - loss: 0.1241 - mse: 0.0872 - mae: 0.2080 - val_loss: 0.0881 - val_mse: 0.0527 - val_mae: 0.1454\n",
      "Epoch 9/100\n",
      "6250/6250 [==============================] - 18s 3ms/step - loss: 0.1193 - mse: 0.0842 - mae: 0.2042 - val_loss: 0.0854 - val_mse: 0.0516 - val_mae: 0.1424\n",
      "Epoch 10/100\n",
      "6250/6250 [==============================] - 17s 3ms/step - loss: 0.1156 - mse: 0.0822 - mae: 0.2014 - val_loss: 0.0811 - val_mse: 0.0488 - val_mae: 0.1380\n",
      "Epoch 11/100\n",
      "6250/6250 [==============================] - 17s 3ms/step - loss: 0.1123 - mse: 0.0803 - mae: 0.1989 - val_loss: 0.0794 - val_mse: 0.0482 - val_mae: 0.1368\n",
      "Epoch 12/100\n",
      "6250/6250 [==============================] - 17s 3ms/step - loss: 0.1099 - mse: 0.0790 - mae: 0.1968 - val_loss: 0.0769 - val_mse: 0.0468 - val_mae: 0.1367\n",
      "Epoch 13/100\n",
      "6250/6250 [==============================] - 18s 3ms/step - loss: 0.1075 - mse: 0.0776 - mae: 0.1951 - val_loss: 0.0759 - val_mse: 0.0469 - val_mae: 0.1349\n",
      "Epoch 14/100\n",
      "6250/6250 [==============================] - 17s 3ms/step - loss: 0.1053 - mse: 0.0764 - mae: 0.1932 - val_loss: 0.0746 - val_mse: 0.0463 - val_mae: 0.1347\n",
      "Epoch 15/100\n",
      "6250/6250 [==============================] - 17s 3ms/step - loss: 0.1037 - mse: 0.0755 - mae: 0.1920 - val_loss: 0.0720 - val_mse: 0.0444 - val_mae: 0.1303\n",
      "Epoch 16/100\n",
      "6250/6250 [==============================] - 17s 3ms/step - loss: 0.1021 - mse: 0.0745 - mae: 0.1904 - val_loss: 0.0712 - val_mse: 0.0441 - val_mae: 0.1314\n",
      "Epoch 17/100\n",
      "6250/6250 [==============================] - 18s 3ms/step - loss: 0.1010 - mse: 0.0741 - mae: 0.1897 - val_loss: 0.0695 - val_mse: 0.0430 - val_mae: 0.1269\n",
      "Epoch 18/100\n",
      "6250/6250 [==============================] - 17s 3ms/step - loss: 0.0997 - mse: 0.0734 - mae: 0.1888 - val_loss: 0.0699 - val_mse: 0.0440 - val_mae: 0.1340\n",
      "Epoch 19/100\n",
      "6250/6250 [==============================] - 17s 3ms/step - loss: 0.0983 - mse: 0.0725 - mae: 0.1873 - val_loss: 0.0695 - val_mse: 0.0441 - val_mae: 0.1350\n",
      "Epoch 20/100\n",
      "6250/6250 [==============================] - 17s 3ms/step - loss: 0.0976 - mse: 0.0723 - mae: 0.1870 - val_loss: 0.0675 - val_mse: 0.0425 - val_mae: 0.1271\n",
      "Epoch 21/100\n",
      "6250/6250 [==============================] - 18s 3ms/step - loss: 0.0963 - mse: 0.0715 - mae: 0.1858 - val_loss: 0.0660 - val_mse: 0.0414 - val_mae: 0.1265\n",
      "Epoch 22/100\n",
      "6250/6250 [==============================] - 17s 3ms/step - loss: 0.0956 - mse: 0.0711 - mae: 0.1850 - val_loss: 0.0658 - val_mse: 0.0416 - val_mae: 0.1259\n",
      "Epoch 23/100\n",
      "6250/6250 [==============================] - 17s 3ms/step - loss: 0.0946 - mse: 0.0705 - mae: 0.1843 - val_loss: 0.0645 - val_mse: 0.0407 - val_mae: 0.1227\n",
      "Epoch 24/100\n",
      "6250/6250 [==============================] - 17s 3ms/step - loss: 0.0939 - mse: 0.0701 - mae: 0.1837 - val_loss: 0.0660 - val_mse: 0.0426 - val_mae: 0.1250\n",
      "Epoch 25/100\n",
      "6250/6250 [==============================] - 17s 3ms/step - loss: 0.0933 - mse: 0.0699 - mae: 0.1831 - val_loss: 0.0636 - val_mse: 0.0404 - val_mae: 0.1249\n",
      "Epoch 26/100\n",
      "6250/6250 [==============================] - 17s 3ms/step - loss: 0.0925 - mse: 0.0693 - mae: 0.1824 - val_loss: 0.0635 - val_mse: 0.0404 - val_mae: 0.1233\n",
      "Epoch 27/100\n",
      "6250/6250 [==============================] - 17s 3ms/step - loss: 0.0914 - mse: 0.0685 - mae: 0.1812 - val_loss: 0.0623 - val_mse: 0.0395 - val_mae: 0.1205\n",
      "Epoch 28/100\n",
      "6250/6250 [==============================] - 17s 3ms/step - loss: 0.0911 - mse: 0.0685 - mae: 0.1809 - val_loss: 0.0611 - val_mse: 0.0386 - val_mae: 0.1196\n",
      "Epoch 29/100\n",
      "6250/6250 [==============================] - 18s 3ms/step - loss: 0.0907 - mse: 0.0682 - mae: 0.1805 - val_loss: 0.0620 - val_mse: 0.0397 - val_mae: 0.1207\n",
      "Epoch 30/100\n",
      "6250/6250 [==============================] - 17s 3ms/step - loss: 0.0896 - mse: 0.0674 - mae: 0.1794 - val_loss: 0.0613 - val_mse: 0.0392 - val_mae: 0.1229\n",
      "Epoch 31/100\n",
      "6250/6250 [==============================] - 17s 3ms/step - loss: 0.0895 - mse: 0.0674 - mae: 0.1792 - val_loss: 0.0635 - val_mse: 0.0418 - val_mae: 0.1250\n",
      "Epoch 32/100\n",
      "6250/6250 [==============================] - 17s 3ms/step - loss: 0.0891 - mse: 0.0673 - mae: 0.1790 - val_loss: 0.0605 - val_mse: 0.0389 - val_mae: 0.1195\n",
      "Epoch 33/100\n",
      "6250/6250 [==============================] - 18s 3ms/step - loss: 0.0886 - mse: 0.0670 - mae: 0.1785 - val_loss: 0.0614 - val_mse: 0.0399 - val_mae: 0.1218\n",
      "Epoch 34/100\n",
      "6250/6250 [==============================] - 17s 3ms/step - loss: 0.0884 - mse: 0.0669 - mae: 0.1782 - val_loss: 0.0583 - val_mse: 0.0370 - val_mae: 0.1156\n",
      "Epoch 35/100\n",
      "6250/6250 [==============================] - 17s 3ms/step - loss: 0.0877 - mse: 0.0664 - mae: 0.1775 - val_loss: 0.0594 - val_mse: 0.0383 - val_mae: 0.1215\n",
      "Epoch 36/100\n",
      "6250/6250 [==============================] - 17s 3ms/step - loss: 0.0875 - mse: 0.0664 - mae: 0.1775 - val_loss: 0.0579 - val_mse: 0.0370 - val_mae: 0.1156\n",
      "Epoch 37/100\n",
      "6250/6250 [==============================] - 19s 3ms/step - loss: 0.0867 - mse: 0.0658 - mae: 0.1769 - val_loss: 0.0578 - val_mse: 0.0370 - val_mae: 0.1152\n",
      "Epoch 38/100\n",
      "6250/6250 [==============================] - 18s 3ms/step - loss: 0.0866 - mse: 0.0658 - mae: 0.1764 - val_loss: 0.0586 - val_mse: 0.0380 - val_mae: 0.1182\n",
      "Epoch 39/100\n",
      "6250/6250 [==============================] - 17s 3ms/step - loss: 0.0862 - mse: 0.0656 - mae: 0.1761 - val_loss: 0.0576 - val_mse: 0.0371 - val_mae: 0.1163\n",
      "Epoch 40/100\n",
      "6250/6250 [==============================] - 17s 3ms/step - loss: 0.0859 - mse: 0.0654 - mae: 0.1758 - val_loss: 0.0592 - val_mse: 0.0388 - val_mae: 0.1180\n",
      "Epoch 41/100\n",
      "6250/6250 [==============================] - 17s 3ms/step - loss: 0.0854 - mse: 0.0650 - mae: 0.1753 - val_loss: 0.0568 - val_mse: 0.0365 - val_mae: 0.1144\n",
      "Epoch 42/100\n",
      "6250/6250 [==============================] - 17s 3ms/step - loss: 0.0855 - mse: 0.0653 - mae: 0.1755 - val_loss: 0.0566 - val_mse: 0.0365 - val_mae: 0.1148\n",
      "Epoch 43/100\n",
      "6250/6250 [==============================] - 17s 3ms/step - loss: 0.0852 - mse: 0.0651 - mae: 0.1753 - val_loss: 0.0573 - val_mse: 0.0373 - val_mae: 0.1167\n",
      "Epoch 44/100\n",
      "6250/6250 [==============================] - 17s 3ms/step - loss: 0.0851 - mse: 0.0651 - mae: 0.1750 - val_loss: 0.0577 - val_mse: 0.0378 - val_mae: 0.1190\n",
      "Epoch 45/100\n",
      "6250/6250 [==============================] - 18s 3ms/step - loss: 0.0848 - mse: 0.0649 - mae: 0.1749 - val_loss: 0.0567 - val_mse: 0.0368 - val_mae: 0.1174\n",
      "Epoch 46/100\n",
      "6250/6250 [==============================] - 17s 3ms/step - loss: 0.0844 - mse: 0.0646 - mae: 0.1743 - val_loss: 0.0558 - val_mse: 0.0360 - val_mae: 0.1137\n",
      "Epoch 47/100\n",
      "6250/6250 [==============================] - 17s 3ms/step - loss: 0.0844 - mse: 0.0646 - mae: 0.1744 - val_loss: 0.0569 - val_mse: 0.0373 - val_mae: 0.1142\n",
      "Epoch 48/100\n",
      "6250/6250 [==============================] - 17s 3ms/step - loss: 0.0834 - mse: 0.0639 - mae: 0.1735 - val_loss: 0.0558 - val_mse: 0.0363 - val_mae: 0.1137\n",
      "Epoch 49/100\n",
      "6250/6250 [==============================] - 18s 3ms/step - loss: 0.0833 - mse: 0.0639 - mae: 0.1734 - val_loss: 0.0558 - val_mse: 0.0366 - val_mae: 0.1139\n",
      "Epoch 50/100\n",
      "6250/6250 [==============================] - 17s 3ms/step - loss: 0.0836 - mse: 0.0643 - mae: 0.1739 - val_loss: 0.0551 - val_mse: 0.0358 - val_mae: 0.1144\n",
      "Epoch 51/100\n",
      "6250/6250 [==============================] - 17s 3ms/step - loss: 0.0830 - mse: 0.0637 - mae: 0.1731 - val_loss: 0.0552 - val_mse: 0.0360 - val_mae: 0.1145\n",
      "Epoch 52/100\n",
      "6250/6250 [==============================] - 17s 3ms/step - loss: 0.0834 - mse: 0.0642 - mae: 0.1735 - val_loss: 0.0547 - val_mse: 0.0356 - val_mae: 0.1127\n",
      "Epoch 53/100\n",
      "6250/6250 [==============================] - 18s 3ms/step - loss: 0.0830 - mse: 0.0639 - mae: 0.1732 - val_loss: 0.0558 - val_mse: 0.0369 - val_mae: 0.1177\n",
      "Epoch 54/100\n",
      "6250/6250 [==============================] - 17s 3ms/step - loss: 0.0824 - mse: 0.0634 - mae: 0.1724 - val_loss: 0.0548 - val_mse: 0.0359 - val_mae: 0.1124\n",
      "Epoch 55/100\n",
      "6250/6250 [==============================] - 17s 3ms/step - loss: 0.0824 - mse: 0.0634 - mae: 0.1725 - val_loss: 0.0577 - val_mse: 0.0388 - val_mae: 0.1149\n",
      "Epoch 56/100\n",
      "6250/6250 [==============================] - 17s 3ms/step - loss: 0.0820 - mse: 0.0632 - mae: 0.1722 - val_loss: 0.0562 - val_mse: 0.0373 - val_mae: 0.1136\n",
      "Epoch 57/100\n",
      "6250/6250 [==============================] - 18s 3ms/step - loss: 0.0822 - mse: 0.0634 - mae: 0.1723 - val_loss: 0.0561 - val_mse: 0.0373 - val_mae: 0.1160\n",
      "Epoch 58/100\n",
      "6250/6250 [==============================] - 17s 3ms/step - loss: 0.0819 - mse: 0.0631 - mae: 0.1720 - val_loss: 0.0559 - val_mse: 0.0373 - val_mae: 0.1199\n",
      "Epoch 59/100\n",
      "6250/6250 [==============================] - 17s 3ms/step - loss: 0.0818 - mse: 0.0632 - mae: 0.1720 - val_loss: 0.0548 - val_mse: 0.0364 - val_mae: 0.1174\n",
      "Epoch 60/100\n",
      "6250/6250 [==============================] - 17s 3ms/step - loss: 0.0813 - mse: 0.0628 - mae: 0.1716 - val_loss: 0.0549 - val_mse: 0.0364 - val_mae: 0.1116\n",
      "Epoch 61/100\n",
      "6250/6250 [==============================] - 18s 3ms/step - loss: 0.0813 - mse: 0.0629 - mae: 0.1714 - val_loss: 0.0531 - val_mse: 0.0348 - val_mae: 0.1123\n",
      "Epoch 62/100\n",
      "6250/6250 [==============================] - 17s 3ms/step - loss: 0.0813 - mse: 0.0629 - mae: 0.1717 - val_loss: 0.0534 - val_mse: 0.0350 - val_mae: 0.1124\n",
      "Epoch 63/100\n",
      "6250/6250 [==============================] - 17s 3ms/step - loss: 0.0816 - mse: 0.0632 - mae: 0.1718 - val_loss: 0.0537 - val_mse: 0.0355 - val_mae: 0.1122\n",
      "Epoch 64/100\n",
      "6250/6250 [==============================] - 18s 3ms/step - loss: 0.0810 - mse: 0.0628 - mae: 0.1714 - val_loss: 0.0547 - val_mse: 0.0363 - val_mae: 0.1104\n",
      "Epoch 65/100\n",
      "6250/6250 [==============================] - 18s 3ms/step - loss: 0.0807 - mse: 0.0624 - mae: 0.1707 - val_loss: 0.0524 - val_mse: 0.0342 - val_mae: 0.1094\n",
      "Epoch 66/100\n",
      "6250/6250 [==============================] - 17s 3ms/step - loss: 0.0807 - mse: 0.0625 - mae: 0.1709 - val_loss: 0.0537 - val_mse: 0.0356 - val_mae: 0.1144\n",
      "Epoch 67/100\n",
      "6250/6250 [==============================] - 17s 3ms/step - loss: 0.0808 - mse: 0.0627 - mae: 0.1710 - val_loss: 0.0526 - val_mse: 0.0345 - val_mae: 0.1100\n",
      "Epoch 68/100\n",
      "6250/6250 [==============================] - 18s 3ms/step - loss: 0.0805 - mse: 0.0625 - mae: 0.1708 - val_loss: 0.0555 - val_mse: 0.0375 - val_mae: 0.1151\n",
      "Epoch 69/100\n",
      "6250/6250 [==============================] - 18s 3ms/step - loss: 0.0799 - mse: 0.0619 - mae: 0.1701 - val_loss: 0.0542 - val_mse: 0.0363 - val_mae: 0.1139\n",
      "Epoch 70/100\n",
      "6250/6250 [==============================] - 17s 3ms/step - loss: 0.0803 - mse: 0.0624 - mae: 0.1706 - val_loss: 0.0517 - val_mse: 0.0337 - val_mae: 0.1090\n",
      "Epoch 71/100\n",
      "6250/6250 [==============================] - 17s 3ms/step - loss: 0.0797 - mse: 0.0619 - mae: 0.1699 - val_loss: 0.0525 - val_mse: 0.0346 - val_mae: 0.1109\n",
      "Epoch 72/100\n",
      "6250/6250 [==============================] - 17s 3ms/step - loss: 0.0794 - mse: 0.0616 - mae: 0.1695 - val_loss: 0.0518 - val_mse: 0.0339 - val_mae: 0.1099\n",
      "Epoch 73/100\n",
      "6250/6250 [==============================] - 18s 3ms/step - loss: 0.0799 - mse: 0.0620 - mae: 0.1699 - val_loss: 0.0519 - val_mse: 0.0341 - val_mae: 0.1091\n",
      "Epoch 74/100\n",
      "6250/6250 [==============================] - 17s 3ms/step - loss: 0.0798 - mse: 0.0620 - mae: 0.1697 - val_loss: 0.0530 - val_mse: 0.0352 - val_mae: 0.1112\n",
      "Epoch 75/100\n",
      "6250/6250 [==============================] - 18s 3ms/step - loss: 0.0797 - mse: 0.0620 - mae: 0.1699 - val_loss: 0.0532 - val_mse: 0.0355 - val_mae: 0.1122\n",
      "Epoch 76/100\n",
      "6250/6250 [==============================] - 17s 3ms/step - loss: 0.0797 - mse: 0.0620 - mae: 0.1698 - val_loss: 0.0516 - val_mse: 0.0340 - val_mae: 0.1097\n",
      "Epoch 77/100\n",
      "6250/6250 [==============================] - 18s 3ms/step - loss: 0.0791 - mse: 0.0615 - mae: 0.1693 - val_loss: 0.0515 - val_mse: 0.0340 - val_mae: 0.1078\n",
      "Epoch 78/100\n",
      "6250/6250 [==============================] - 19s 3ms/step - loss: 0.0793 - mse: 0.0618 - mae: 0.1694 - val_loss: 0.0525 - val_mse: 0.0350 - val_mae: 0.1127\n",
      "Epoch 79/100\n",
      "6250/6250 [==============================] - 17s 3ms/step - loss: 0.0792 - mse: 0.0617 - mae: 0.1694 - val_loss: 0.0530 - val_mse: 0.0354 - val_mae: 0.1148\n",
      "Epoch 80/100\n",
      "6250/6250 [==============================] - 17s 3ms/step - loss: 0.0792 - mse: 0.0617 - mae: 0.1692 - val_loss: 0.0515 - val_mse: 0.0340 - val_mae: 0.1090\n",
      "Epoch 81/100\n",
      "6250/6250 [==============================] - 17s 3ms/step - loss: 0.0789 - mse: 0.0615 - mae: 0.1691 - val_loss: 0.0511 - val_mse: 0.0337 - val_mae: 0.1103\n",
      "Epoch 82/100\n",
      "6250/6250 [==============================] - 17s 3ms/step - loss: 0.0788 - mse: 0.0614 - mae: 0.1690 - val_loss: 0.0516 - val_mse: 0.0342 - val_mae: 0.1110\n",
      "Epoch 83/100\n",
      "6250/6250 [==============================] - 17s 3ms/step - loss: 0.0788 - mse: 0.0614 - mae: 0.1689 - val_loss: 0.0515 - val_mse: 0.0343 - val_mae: 0.1103\n",
      "Epoch 84/100\n",
      "6250/6250 [==============================] - 17s 3ms/step - loss: 0.0789 - mse: 0.0616 - mae: 0.1690 - val_loss: 0.0503 - val_mse: 0.0330 - val_mae: 0.1086\n",
      "Epoch 85/100\n",
      "6250/6250 [==============================] - 17s 3ms/step - loss: 0.0786 - mse: 0.0612 - mae: 0.1685 - val_loss: 0.0527 - val_mse: 0.0355 - val_mae: 0.1145\n",
      "Epoch 86/100\n",
      "6250/6250 [==============================] - 17s 3ms/step - loss: 0.0786 - mse: 0.0613 - mae: 0.1688 - val_loss: 0.0528 - val_mse: 0.0357 - val_mae: 0.1188\n",
      "Epoch 87/100\n",
      "6250/6250 [==============================] - 17s 3ms/step - loss: 0.0784 - mse: 0.0613 - mae: 0.1686 - val_loss: 0.0517 - val_mse: 0.0345 - val_mae: 0.1085\n",
      "Epoch 88/100\n",
      "6250/6250 [==============================] - 17s 3ms/step - loss: 0.0784 - mse: 0.0613 - mae: 0.1684 - val_loss: 0.0512 - val_mse: 0.0341 - val_mae: 0.1082\n",
      "Epoch 89/100\n",
      "6250/6250 [==============================] - 17s 3ms/step - loss: 0.0783 - mse: 0.0612 - mae: 0.1683 - val_loss: 0.0513 - val_mse: 0.0342 - val_mae: 0.1086\n",
      "Epoch 90/100\n",
      "6250/6250 [==============================] - 17s 3ms/step - loss: 0.0783 - mse: 0.0612 - mae: 0.1685 - val_loss: 0.0522 - val_mse: 0.0351 - val_mae: 0.1105\n",
      "Epoch 91/100\n",
      "6250/6250 [==============================] - 17s 3ms/step - loss: 0.0777 - mse: 0.0607 - mae: 0.1678 - val_loss: 0.0502 - val_mse: 0.0332 - val_mae: 0.1074\n",
      "Epoch 92/100\n",
      "6250/6250 [==============================] - 16s 3ms/step - loss: 0.0776 - mse: 0.0606 - mae: 0.1672 - val_loss: 0.0597 - val_mse: 0.0426 - val_mae: 0.1349\n",
      "Epoch 93/100\n",
      "6250/6250 [==============================] - 17s 3ms/step - loss: 0.0776 - mse: 0.0605 - mae: 0.1667 - val_loss: 0.0623 - val_mse: 0.0454 - val_mae: 0.1384\n",
      "Epoch 94/100\n",
      "6250/6250 [==============================] - 17s 3ms/step - loss: 0.0773 - mse: 0.0604 - mae: 0.1665 - val_loss: 0.0656 - val_mse: 0.0487 - val_mae: 0.1490\n",
      "Epoch 95/100\n",
      "6250/6250 [==============================] - 17s 3ms/step - loss: 0.0775 - mse: 0.0605 - mae: 0.1666 - val_loss: 0.0637 - val_mse: 0.0468 - val_mae: 0.1473\n",
      "Epoch 96/100\n",
      "6250/6250 [==============================] - 17s 3ms/step - loss: 0.0772 - mse: 0.0603 - mae: 0.1663 - val_loss: 0.0610 - val_mse: 0.0441 - val_mae: 0.1380\n",
      "Epoch 97/100\n",
      "6250/6250 [==============================] - 17s 3ms/step - loss: 0.0769 - mse: 0.0600 - mae: 0.1661 - val_loss: 0.0610 - val_mse: 0.0441 - val_mae: 0.1395\n",
      "Epoch 98/100\n",
      "6250/6250 [==============================] - 17s 3ms/step - loss: 0.0767 - mse: 0.0599 - mae: 0.1658 - val_loss: 0.0587 - val_mse: 0.0419 - val_mae: 0.1342\n",
      "Epoch 99/100\n",
      "6250/6250 [==============================] - 17s 3ms/step - loss: 0.0769 - mse: 0.0601 - mae: 0.1659 - val_loss: 0.0618 - val_mse: 0.0451 - val_mae: 0.1398\n",
      "Epoch 100/100\n",
      "6250/6250 [==============================] - 17s 3ms/step - loss: 0.0767 - mse: 0.0599 - mae: 0.1659 - val_loss: 0.0616 - val_mse: 0.0449 - val_mae: 0.1419\n"
     ]
    }
   ],
   "source": [
    "history = CNN_model.fit(\n",
    "    x_train,\n",
    "    y_train,\n",
    "    validation_data=(x_val, y_val),\n",
    "    epochs=100,\n",
    "    batch_size=batch_size,\n",
    "#     callbacks=[callback]\n",
    ")"
   ]
  },
  {
   "cell_type": "code",
   "execution_count": 160,
   "id": "coordinate-tiffany",
   "metadata": {},
   "outputs": [],
   "source": [
    "history1 = history"
   ]
  },
  {
   "cell_type": "code",
   "execution_count": 161,
   "id": "familiar-fossil",
   "metadata": {},
   "outputs": [
    {
     "name": "stdout",
     "output_type": "stream",
     "text": [
      "3125/3125 [==============================] - 6s 2ms/step - loss: 0.0617 - mse: 0.0450 - mae: 0.1420\n"
     ]
    },
    {
     "data": {
      "text/plain": [
       "[0.061700839549303055, 0.04500385373830795, 0.14196065068244934]"
      ]
     },
     "execution_count": 161,
     "metadata": {},
     "output_type": "execute_result"
    }
   ],
   "source": [
    "CNN_model.evaluate(x_test, y_test)"
   ]
  },
  {
   "cell_type": "code",
   "execution_count": 162,
   "id": "clinical-professional",
   "metadata": {},
   "outputs": [
    {
     "data": {
      "text/plain": [
       "[<matplotlib.lines.Line2D at 0x148a54def460>]"
      ]
     },
     "execution_count": 162,
     "metadata": {},
     "output_type": "execute_result"
    },
    {
     "data": {
      "image/png": "[encoded data removed]",
      "text/plain": [
       "<Figure size 432x288 with 1 Axes>"
      ]
     },
     "metadata": {
      "needs_background": "light"
     },
     "output_type": "display_data"
    }
   ],
   "source": [
    "plt.plot(history.history[\"mae\"])\n",
    "plt.plot(history.history[\"val_mae\"])\n",
    "# plt.plot(history.history[\"accuracy\"])\n",
    "# plt.plot(history.history[\"val_accuracy\"])"
   ]
  },
  {
   "cell_type": "code",
   "execution_count": 163,
   "id": "heavy-clinton",
   "metadata": {},
   "outputs": [
    {
     "data": {
      "text/plain": [
       "[<matplotlib.lines.Line2D at 0x148a54db7730>]"
      ]
     },
     "execution_count": 163,
     "metadata": {},
     "output_type": "execute_result"
    },
    {
     "data": {
      "image/png": "[encoded data removed]",
      "text/plain": [
       "<Figure size 432x288 with 1 Axes>"
      ]
     },
     "metadata": {
      "needs_background": "light"
     },
     "output_type": "display_data"
    }
   ],
   "source": [
    "plt.plot(history.history[\"mse\"])\n",
    "plt.plot(history.history[\"val_mse\"])\n",
    "# plt.plot(history.history[\"loss\"])\n",
    "# plt.plot(history.history[\"val_loss\"])"
   ]
  },
  {
   "cell_type": "code",
   "execution_count": 164,
   "id": "dominican-armstrong",
   "metadata": {},
   "outputs": [
    {
     "name": "stdout",
     "output_type": "stream",
     "text": [
      "INFO:tensorflow:Assets written to: ./saved_model/fifo/assets\n"
     ]
    }
   ],
   "source": [
    "tf.saved_model.save(CNN_model, \"./saved_model/fifo/\")"
   ]
  },
  {
   "cell_type": "code",
   "execution_count": 114,
   "id": "comic-string",
   "metadata": {},
   "outputs": [],
   "source": [
    "from sklearn.metrics import r2_score, mean_squared_error"
   ]
  },
  {
   "cell_type": "code",
   "execution_count": 165,
   "id": "integrated-diving",
   "metadata": {},
   "outputs": [],
   "source": [
    "y_pred = CNN_model.predict(x_test)"
   ]
  },
  {
   "cell_type": "code",
   "execution_count": 116,
   "id": "auburn-husband",
   "metadata": {},
   "outputs": [],
   "source": [
    "pbt_scores = [\n",
    "    r2_score(y_test[:, 0], y_pred[:, 0]),\n",
    "    r2_score(y_test[:, 1], y_pred[:, 1]),\n",
    "    r2_score(y_test[:, 2], y_pred[:, 2]),\n",
    "    r2_score(y_test[:, 3], y_pred[:, 3]),\n",
    "]"
   ]
  },
  {
   "cell_type": "code",
   "execution_count": 135,
   "id": "electric-strand",
   "metadata": {},
   "outputs": [],
   "source": [
    "ahb_scores = [\n",
    "    r2_score(y_test[:, 0], y_pred[:, 0]),\n",
    "    r2_score(y_test[:, 1], y_pred[:, 1]),\n",
    "    r2_score(y_test[:, 2], y_pred[:, 2]),\n",
    "    r2_score(y_test[:, 3], y_pred[:, 3]),\n",
    "]"
   ]
  },
  {
   "cell_type": "code",
   "execution_count": 151,
   "id": "wired-vehicle",
   "metadata": {},
   "outputs": [],
   "source": [
    "hpb_scores = [\n",
    "    r2_score(y_test[:, 0], y_pred[:, 0]),\n",
    "    r2_score(y_test[:, 1], y_pred[:, 1]),\n",
    "    r2_score(y_test[:, 2], y_pred[:, 2]),\n",
    "    r2_score(y_test[:, 3], y_pred[:, 3]),\n",
    "]"
   ]
  },
  {
   "cell_type": "code",
   "execution_count": 166,
   "id": "injured-workstation",
   "metadata": {},
   "outputs": [],
   "source": [
    "fifo_scores = [\n",
    "    r2_score(y_test[:, 0], y_pred[:, 0]),\n",
    "    r2_score(y_test[:, 1], y_pred[:, 1]),\n",
    "    r2_score(y_test[:, 2], y_pred[:, 2]),\n",
    "    r2_score(y_test[:, 3], y_pred[:, 3]),\n",
    "]"
   ]
  },
  {
   "cell_type": "code",
   "execution_count": 136,
   "id": "laden-auckland",
   "metadata": {},
   "outputs": [
    {
     "data": {
      "text/plain": [
       "0.9205907011550706"
      ]
     },
     "execution_count": 136,
     "metadata": {},
     "output_type": "execute_result"
    }
   ],
   "source": [
    "r2_score(y_test[:,0], y_pred[:,0])"
   ]
  },
  {
   "cell_type": "code",
   "execution_count": 118,
   "id": "aggregate-model",
   "metadata": {},
   "outputs": [
    {
     "data": {
      "text/plain": [
       "0.9707016241421853"
      ]
     },
     "execution_count": 118,
     "metadata": {},
     "output_type": "execute_result"
    }
   ],
   "source": [
    "r2_score(y_test[:,1], y_pred[:,1])"
   ]
  },
  {
   "cell_type": "code",
   "execution_count": 119,
   "id": "academic-library",
   "metadata": {},
   "outputs": [
    {
     "data": {
      "text/plain": [
       "0.9798950092355141"
      ]
     },
     "execution_count": 119,
     "metadata": {},
     "output_type": "execute_result"
    }
   ],
   "source": [
    "r2_score(y_test[:,2], y_pred[:,2])"
   ]
  },
  {
   "cell_type": "code",
   "execution_count": 120,
   "id": "armed-letters",
   "metadata": {},
   "outputs": [
    {
     "data": {
      "text/plain": [
       "0.977179126246676"
      ]
     },
     "execution_count": 120,
     "metadata": {},
     "output_type": "execute_result"
    }
   ],
   "source": [
    "r2_score(y_test[:,3], y_pred[:,3])"
   ]
  },
  {
   "cell_type": "code",
   "execution_count": 30,
   "id": "christian-domestic",
   "metadata": {},
   "outputs": [
    {
     "data": {
      "text/plain": [
       "0.03613408217525364"
      ]
     },
     "execution_count": 30,
     "metadata": {},
     "output_type": "execute_result"
    }
   ],
   "source": [
    "np.mean(\n",
    "    [\n",
    "        mean_squared_error(y_test[:, 0], y_pred[:, 0]),\n",
    "        mean_squared_error(y_test[:, 1], y_pred[:, 1]),\n",
    "        mean_squared_error(y_test[:, 2], y_pred[:, 2]),\n",
    "        mean_squared_error(y_test[:, 3], y_pred[:, 3]),\n",
    "    ]\n",
    ")"
   ]
  },
  {
   "cell_type": "code",
   "execution_count": null,
   "id": "thick-fundamental",
   "metadata": {},
   "outputs": [],
   "source": [
    "np.mean([y_test[:,0]-y_pred[:,0]])"
   ]
  },
  {
   "cell_type": "code",
   "execution_count": 31,
   "id": "addressed-projector",
   "metadata": {},
   "outputs": [],
   "source": [
    "pred_val = reduced_scaler.inverse_transform(y_pred)"
   ]
  },
  {
   "cell_type": "code",
   "execution_count": 32,
   "id": "adequate-cutting",
   "metadata": {},
   "outputs": [],
   "source": [
    "true_val = reduced_scaler.inverse_transform(y_test)"
   ]
  },
  {
   "cell_type": "code",
   "execution_count": 33,
   "id": "awful-mozambique",
   "metadata": {},
   "outputs": [
    {
     "data": {
      "text/plain": [
       "array([ 0.62598822, -5.56577064, -0.15745621,  0.00617317])"
      ]
     },
     "execution_count": 33,
     "metadata": {},
     "output_type": "execute_result"
    }
   ],
   "source": [
    "np.mean(true_val-pred_val, axis=0)"
   ]
  },
  {
   "cell_type": "code",
   "execution_count": 34,
   "id": "australian-grounds",
   "metadata": {},
   "outputs": [],
   "source": [
    "pao2_true = true_val[:,0]\n",
    "pao2_pred = pred_val[:,0]"
   ]
  },
  {
   "cell_type": "code",
   "execution_count": 35,
   "id": "educated-museum",
   "metadata": {},
   "outputs": [],
   "source": [
    "pao2 = pd.DataFrame({\"true\":pao2_true, \"pred\": pao2_pred})"
   ]
  },
  {
   "cell_type": "code",
   "execution_count": 36,
   "id": "unauthorized-reserve",
   "metadata": {},
   "outputs": [],
   "source": [
    "pao2 = pao2[(pao2[\"true\"]>10) | (pao2[\"pred\"]>10)].reset_index(drop=True)"
   ]
  },
  {
   "cell_type": "code",
   "execution_count": 37,
   "id": "certified-aggregate",
   "metadata": {},
   "outputs": [],
   "source": [
    "pao2[\"diff\"] = pao2[\"true\"]-pao2[\"pred\"]"
   ]
  },
  {
   "cell_type": "code",
   "execution_count": 38,
   "id": "aggressive-weapon",
   "metadata": {},
   "outputs": [
    {
     "data": {
      "text/plain": [
       "0.7724705940783989"
      ]
     },
     "execution_count": 38,
     "metadata": {},
     "output_type": "execute_result"
    }
   ],
   "source": [
    "pao2[\"diff\"].mean()"
   ]
  },
  {
   "cell_type": "markdown",
   "id": "english-public",
   "metadata": {},
   "source": [
    "## Plot Results for paper"
   ]
  },
  {
   "cell_type": "code",
   "execution_count": 24,
   "id": "descending-explosion",
   "metadata": {},
   "outputs": [],
   "source": [
    "import pickle"
   ]
  },
  {
   "cell_type": "code",
   "execution_count": 50,
   "id": "personalized-wednesday",
   "metadata": {},
   "outputs": [],
   "source": [
    "with open('figures/ann_hist1', 'wb') as file_pi:\n",
    "    pickle.dump(history1.history, file_pi)"
   ]
  },
  {
   "cell_type": "code",
   "execution_count": 25,
   "id": "banned-medicare",
   "metadata": {},
   "outputs": [],
   "source": [
    "with open('figures/cnn_hist2', 'wb') as file_pi:\n",
    "    pickle.dump(history2.history, file_pi)"
   ]
  },
  {
   "cell_type": "code",
   "execution_count": 167,
   "id": "eastern-husband",
   "metadata": {},
   "outputs": [],
   "source": [
    "with open('figures/final_hist1', 'wb') as file_pi:\n",
    "    pickle.dump(history1.history, file_pi)"
   ]
  },
  {
   "cell_type": "code",
   "execution_count": 168,
   "id": "intimate-michael",
   "metadata": {},
   "outputs": [],
   "source": [
    "with open('figures/fifo_scores', 'wb') as file_pi:\n",
    "    pickle.dump(fifo_scores, file_pi)"
   ]
  },
  {
   "cell_type": "code",
   "execution_count": null,
   "id": "simplified-essex",
   "metadata": {},
   "outputs": [],
   "source": []
  }
 ],
 "metadata": {
  "kernelspec": {
   "display_name": "gpu_kernel",
   "language": "python",
   "name": "gpu_kernel"
  },
  "language_info": {
   "codemirror_mode": {
    "name": "ipython",
    "version": 3
   },
   "file_extension": ".py",
   "mimetype": "text/x-python",
   "name": "python",
   "nbconvert_exporter": "python",
   "pygments_lexer": "ipython3",
   "version": "3.8.5"
  }
 },
 "nbformat": 4,
 "nbformat_minor": 5
}
